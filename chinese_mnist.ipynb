{
  "cells": [
    {
      "cell_type": "code",
      "execution_count": null,
      "metadata": {
        "id": "XE_Puy3en__Q"
      },
      "outputs": [],
      "source": [
        "import tensorflow as tf\n",
        "import os\n",
        "import cv2\n",
        "import numpy as np\n",
        "import matplotlib.pyplot as plt\n",
        "from tensorflow.keras.metrics import Recall\n",
        "from tensorflow.keras.layers import RandomFlip, RandomRotation"
      ]
    },
    {
      "cell_type": "code",
      "source": [
        "len(tf.config.list_physical_devices('GPU'))"
      ],
      "metadata": {
        "colab": {
          "base_uri": "https://localhost:8080/"
        },
        "id": "qWGv-yEYvUV4",
        "outputId": "41db6c5f-3856-473e-c763-25a7a6660f00"
      },
      "execution_count": null,
      "outputs": [
        {
          "output_type": "execute_result",
          "data": {
            "text/plain": [
              "1"
            ]
          },
          "metadata": {},
          "execution_count": 3
        }
      ]
    },
    {
      "cell_type": "code",
      "execution_count": null,
      "metadata": {
        "id": "W6Ksbg5CoHGM",
        "colab": {
          "base_uri": "https://localhost:8080/"
        },
        "outputId": "6bb0b15a-a64c-4417-c09b-e84ca06968be"
      },
      "outputs": [
        {
          "output_type": "stream",
          "name": "stdout",
          "text": [
            "Mounted at /content/drive\n"
          ]
        }
      ],
      "source": [
        "from google.colab import drive\n",
        "drive.mount('/content/drive')"
      ]
    },
    {
      "cell_type": "code",
      "execution_count": null,
      "metadata": {
        "id": "FvlkZRu0DGrz"
      },
      "outputs": [],
      "source": [
        "\n",
        "data_path =\"drive/MyDrive/collected data\""
      ]
    },
    {
      "cell_type": "code",
      "execution_count": null,
      "metadata": {
        "id": "Ej6NLmEuI6m1"
      },
      "outputs": [],
      "source": [
        "#For data collection in the future, use chrome extension to download all images from Google"
      ]
    },
    {
      "cell_type": "markdown",
      "metadata": {
        "id": "a9p3jGfkQlBF"
      },
      "source": [
        "## Load data using tf.data.Dataset"
      ]
    },
    {
      "cell_type": "code",
      "execution_count": null,
      "metadata": {
        "id": "WspAe7pJJ1sr"
      },
      "outputs": [],
      "source": [
        "from tensorflow.keras.utils import image_dataset_from_directory"
      ]
    },
    {
      "cell_type": "code",
      "execution_count": null,
      "metadata": {
        "colab": {
          "base_uri": "https://localhost:8080/"
        },
        "id": "x8uUrpV0QEf2",
        "outputId": "6547acd8-c1e9-490e-ef38-bd1a9a4b2316"
      },
      "outputs": [
        {
          "output_type": "stream",
          "name": "stdout",
          "text": [
            "Found 1698 files belonging to 15 classes.\n"
          ]
        }
      ],
      "source": [
        "data = image_dataset_from_directory(data_path)"
      ]
    },
    {
      "cell_type": "code",
      "execution_count": null,
      "metadata": {
        "colab": {
          "base_uri": "https://localhost:8080/",
          "height": 164
        },
        "id": "xO6mm6uVRLAp",
        "outputId": "839679a3-81d5-47b4-cbef-2b9afdce35d6"
      },
      "outputs": [
        {
          "ename": "NameError",
          "evalue": "ignored",
          "output_type": "error",
          "traceback": [
            "\u001b[0;31m---------------------------------------------------------------------------\u001b[0m",
            "\u001b[0;31mNameError\u001b[0m                                 Traceback (most recent call last)",
            "\u001b[0;32m<ipython-input-6-27cdef7f8eb6>\u001b[0m in \u001b[0;36m<module>\u001b[0;34m()\u001b[0m\n\u001b[0;32m----> 1\u001b[0;31m \u001b[0mdata_iterator\u001b[0m \u001b[0;34m=\u001b[0m \u001b[0mdata\u001b[0m\u001b[0;34m.\u001b[0m\u001b[0mas_numpy_iterator\u001b[0m\u001b[0;34m(\u001b[0m\u001b[0;34m)\u001b[0m\u001b[0;34m\u001b[0m\u001b[0;34m\u001b[0m\u001b[0m\n\u001b[0m",
            "\u001b[0;31mNameError\u001b[0m: name 'data' is not defined"
          ]
        }
      ],
      "source": [
        "data_iterator = data.as_numpy_iterator()"
      ]
    },
    {
      "cell_type": "code",
      "execution_count": null,
      "metadata": {
        "id": "YiehFslbR7TP"
      },
      "outputs": [],
      "source": [
        "#Generate a batch\n",
        "batch = data_iterator.next()"
      ]
    },
    {
      "cell_type": "code",
      "execution_count": null,
      "metadata": {
        "id": "qQ_9PRd6SDOm"
      },
      "outputs": [],
      "source": [
        "#index starts at 1, so make sure to -1 in the predicted class at the end\n",
        "fig, ax = plt.subplots(ncols=4, figsize=(20,20))\n",
        "for idx, img in enumerate(batch[0][:4]):\n",
        "    ax[idx].imshow(img.astype(int))\n",
        "    ax[idx].title.set_text(batch[1][idx])"
      ]
    },
    {
      "cell_type": "markdown",
      "metadata": {
        "id": "r1v2co1obRNq"
      },
      "source": [
        "## Normalizing data"
      ]
    },
    {
      "cell_type": "code",
      "execution_count": null,
      "metadata": {
        "colab": {
          "base_uri": "https://localhost:8080/"
        },
        "id": "aEN94xLdTC_B",
        "outputId": "da519639-69f1-49e7-c3a3-3921ae680dbc"
      },
      "outputs": [
        {
          "output_type": "execute_result",
          "data": {
            "text/plain": [
              "<MapDataset element_spec=(TensorSpec(shape=(None, 256, 256, 3), dtype=tf.float32, name=None), TensorSpec(shape=(None,), dtype=tf.int32, name=None))>"
            ]
          },
          "metadata": {},
          "execution_count": 9
        }
      ],
      "source": [
        "#automatically shapes the images in (256,256,3)\n",
        "data = data.map(lambda x,y: (x/255.0, y))\n",
        "data"
      ]
    },
    {
      "cell_type": "code",
      "execution_count": null,
      "metadata": {
        "id": "1Wo322ECZiFm"
      },
      "outputs": [],
      "source": [
        "scaled_iterator = data.as_numpy_iterator()"
      ]
    },
    {
      "cell_type": "code",
      "execution_count": null,
      "metadata": {
        "id": "ENy3Z9hHZtil"
      },
      "outputs": [],
      "source": [
        "#Generates a batch of data\n",
        "batch = scaled_iterator.next()"
      ]
    },
    {
      "cell_type": "code",
      "execution_count": null,
      "metadata": {
        "colab": {
          "base_uri": "https://localhost:8080/"
        },
        "id": "HP3uyyzV4qqO",
        "outputId": "21b7fa7d-8df2-4ef3-ccd8-f5526de3b331"
      },
      "outputs": [
        {
          "output_type": "execute_result",
          "data": {
            "text/plain": [
              "(32, 256, 256, 3)"
            ]
          },
          "metadata": {},
          "execution_count": 12
        }
      ],
      "source": [
        "#In this case, we're generating 32 samples for one batch\n",
        "batch[0].shape"
      ]
    },
    {
      "cell_type": "markdown",
      "metadata": {
        "id": "hq9H9ypgbUmq"
      },
      "source": [
        "## Split train test"
      ]
    },
    {
      "cell_type": "code",
      "execution_count": null,
      "metadata": {
        "colab": {
          "base_uri": "https://localhost:8080/"
        },
        "id": "9Ax2_S-T7wi0",
        "outputId": "ff60baec-7232-450a-cf41-841dd1778d96"
      },
      "outputs": [
        {
          "output_type": "execute_result",
          "data": {
            "text/plain": [
              "54"
            ]
          },
          "metadata": {},
          "execution_count": 13
        }
      ],
      "source": [
        "#Number of batches\n",
        "len(data)"
      ]
    },
    {
      "cell_type": "code",
      "execution_count": null,
      "metadata": {
        "id": "rcwT145XawlQ",
        "colab": {
          "base_uri": "https://localhost:8080/"
        },
        "outputId": "839db03d-2484-4a01-87ac-1f9510a6b328"
      },
      "outputs": [
        {
          "output_type": "execute_result",
          "data": {
            "text/plain": [
              "54"
            ]
          },
          "metadata": {},
          "execution_count": 15
        }
      ],
      "source": [
        "#removed the test data\n",
        "train_size = int(len(data)*.7)\n",
        "val_size = int(len(data)*.3)+1\n",
        "\n",
        "\n",
        "\n",
        "train = data.take(train_size)\n",
        "val = data.skip(train_size).take(val_size)\n",
        "train_size+val_size"
      ]
    },
    {
      "cell_type": "markdown",
      "metadata": {
        "id": "vhJfo7uapNHa"
      },
      "source": [
        "## Model architecture\n"
      ]
    },
    {
      "cell_type": "code",
      "execution_count": null,
      "metadata": {
        "id": "EYtmC3aUDIEs",
        "colab": {
          "base_uri": "https://localhost:8080/"
        },
        "outputId": "13b33695-bb57-47a8-ff63-c69f4a18d24d"
      },
      "outputs": [
        {
          "output_type": "stream",
          "name": "stdout",
          "text": [
            "Downloading data from https://storage.googleapis.com/tensorflow/keras-applications/vgg16/vgg16_weights_tf_dim_ordering_tf_kernels_notop.h5\n",
            "58892288/58889256 [==============================] - 0s 0us/step\n",
            "58900480/58889256 [==============================] - 0s 0us/step\n"
          ]
        }
      ],
      "source": [
        "#Initializing a vgg16 \n",
        "from tensorflow.keras.applications import VGG16\n",
        "conv_base = VGG16(weights=\"imagenet\", include_top = False, input_shape=(256,256,3))\n"
      ]
    },
    {
      "cell_type": "code",
      "source": [
        "#initializing a resnet\n",
        "\n",
        "from tensorflow.keras.applications import ResNet152\n",
        "\n",
        "resnet_base = ResNet152(weights=\"imagenet\", include_top = False, input_shape = (256,256,3))\n",
        "resnet_base.trainable = False"
      ],
      "metadata": {
        "id": "a7eP9TQE8Ne6"
      },
      "execution_count": null,
      "outputs": []
    },
    {
      "cell_type": "code",
      "source": [
        "#freezing all layers except the block5_conv1\n",
        "conv_base.trainable = True\n",
        "set_trainable =False\n",
        "for layer in conv_base .layers:\n",
        "    if layer.name ==\"block5_conv1\":\n",
        "        set_trainable = True\n",
        "    if set_trainable:\n",
        "        layer.trainable = True\n",
        "    else:\n",
        "        layer.trainable = False"
      ],
      "metadata": {
        "id": "R1-ptTnP43B-"
      },
      "execution_count": null,
      "outputs": []
    },
    {
      "cell_type": "code",
      "execution_count": null,
      "metadata": {
        "id": "pUG-GwNRciHS"
      },
      "outputs": [],
      "source": [
        "from tensorflow.keras.models import Sequential\n",
        "from tensorflow.keras.layers import Conv2D, MaxPool2D, Dropout, BatchNormalization, Flatten, Dense\n",
        "from tensorflow.keras.optimizers import RMSprop\n",
        "def create_cnn_model():\n",
        "\n",
        "  model = Sequential()\n",
        "  model.add(conv_base)\n",
        "  model.add(Flatten())\n",
        "  model.add(Dense(64, activation=\"relu\"))\n",
        "  model.add(Dense(15, activation=\"softmax\", kernel_regularizer='l2'))\n",
        "  model.compile(optimizer=RMSprop(learning_rate=1e-5), loss=tf.keras.losses.SparseCategoricalCrossentropy(from_logits=False), metrics=['accuracy', \n",
        "                                                                                                           ])\n",
        "  return model\n",
        "\n",
        "\n",
        "model = create_cnn_model()\n"
      ]
    },
    {
      "cell_type": "code",
      "execution_count": null,
      "metadata": {
        "colab": {
          "base_uri": "https://localhost:8080/"
        },
        "id": "_mREYHLVnbX0",
        "outputId": "10c3fd37-f670-451c-ecf7-d2e4dd31f7d0"
      },
      "outputs": [
        {
          "output_type": "stream",
          "name": "stdout",
          "text": [
            "Model: \"sequential\"\n",
            "_________________________________________________________________\n",
            " Layer (type)                Output Shape              Param #   \n",
            "=================================================================\n",
            " vgg16 (Functional)          (None, 8, 8, 512)         14714688  \n",
            "                                                                 \n",
            " flatten (Flatten)           (None, 32768)             0         \n",
            "                                                                 \n",
            " dense (Dense)               (None, 64)                2097216   \n",
            "                                                                 \n",
            " dense_1 (Dense)             (None, 15)                975       \n",
            "                                                                 \n",
            "=================================================================\n",
            "Total params: 16,812,879\n",
            "Trainable params: 9,177,615\n",
            "Non-trainable params: 7,635,264\n",
            "_________________________________________________________________\n"
          ]
        }
      ],
      "source": [
        "model.summary()"
      ]
    },
    {
      "cell_type": "code",
      "execution_count": null,
      "metadata": {
        "colab": {
          "base_uri": "https://localhost:8080/"
        },
        "id": "CjVQhwWN46iA",
        "outputId": "7c1f674f-9968-401d-9d4e-2bfe8cabaf5b"
      },
      "outputs": [
        {
          "output_type": "stream",
          "name": "stdout",
          "text": [
            "Epoch 1/17\n",
            "37/37 [==============================] - 134s 3s/step - loss: 2.6811 - accuracy: 0.2694 - val_loss: 2.3239 - val_accuracy: 0.3463\n",
            "Epoch 2/17\n",
            "37/37 [==============================] - 13s 347ms/step - loss: 1.9700 - accuracy: 0.5650 - val_loss: 1.6594 - val_accuracy: 0.6420\n",
            "Epoch 3/17\n",
            "37/37 [==============================] - 13s 348ms/step - loss: 1.3301 - accuracy: 0.7703 - val_loss: 1.1555 - val_accuracy: 0.7588\n",
            "Epoch 4/17\n",
            "37/37 [==============================] - 13s 348ms/step - loss: 0.8944 - accuracy: 0.8716 - val_loss: 0.7927 - val_accuracy: 0.8969\n",
            "Epoch 5/17\n",
            "37/37 [==============================] - 13s 351ms/step - loss: 0.6438 - accuracy: 0.9282 - val_loss: 0.6503 - val_accuracy: 0.9125\n",
            "Epoch 6/17\n",
            "37/37 [==============================] - 13s 349ms/step - loss: 0.5173 - accuracy: 0.9443 - val_loss: 0.5207 - val_accuracy: 0.9377\n",
            "Epoch 7/17\n",
            "37/37 [==============================] - 13s 350ms/step - loss: 0.4449 - accuracy: 0.9485 - val_loss: 0.4834 - val_accuracy: 0.9416\n",
            "Epoch 8/17\n",
            "37/37 [==============================] - 18s 492ms/step - loss: 0.3854 - accuracy: 0.9730 - val_loss: 0.4410 - val_accuracy: 0.9514\n",
            "Epoch 9/17\n",
            "37/37 [==============================] - 13s 351ms/step - loss: 0.3473 - accuracy: 0.9840 - val_loss: 0.4160 - val_accuracy: 0.9455\n",
            "Epoch 10/17\n",
            "37/37 [==============================] - 13s 352ms/step - loss: 0.3243 - accuracy: 0.9840 - val_loss: 0.4103 - val_accuracy: 0.9494\n",
            "Epoch 11/17\n",
            "37/37 [==============================] - 13s 355ms/step - loss: 0.3097 - accuracy: 0.9899 - val_loss: 0.3909 - val_accuracy: 0.9533\n",
            "Epoch 12/17\n",
            "37/37 [==============================] - 13s 354ms/step - loss: 0.2917 - accuracy: 0.9907 - val_loss: 0.4050 - val_accuracy: 0.9572\n",
            "Epoch 13/17\n",
            "37/37 [==============================] - 13s 355ms/step - loss: 0.2825 - accuracy: 0.9924 - val_loss: 0.3862 - val_accuracy: 0.9572\n",
            "Epoch 14/17\n",
            "37/37 [==============================] - 13s 357ms/step - loss: 0.2756 - accuracy: 0.9949 - val_loss: 0.3627 - val_accuracy: 0.9650\n",
            "Epoch 15/17\n",
            "37/37 [==============================] - 18s 495ms/step - loss: 0.2663 - accuracy: 0.9941 - val_loss: 0.4226 - val_accuracy: 0.9416\n",
            "Epoch 16/17\n",
            "37/37 [==============================] - 14s 358ms/step - loss: 0.2667 - accuracy: 0.9932 - val_loss: 0.3666 - val_accuracy: 0.9708\n",
            "Epoch 17/17\n",
            "37/37 [==============================] - 13s 356ms/step - loss: 0.2546 - accuracy: 0.9983 - val_loss: 0.3502 - val_accuracy: 0.9708\n"
          ]
        }
      ],
      "source": [
        "from tensorflow.keras.callbacks import EarlyStopping\n",
        "#Change the number of epochs to around 17\n",
        "hist = model.fit(train, epochs=17, validation_data=val, callbacks=[EarlyStopping(patience=3)], verbose=1)\n",
        "\n"
      ]
    },
    {
      "cell_type": "markdown",
      "metadata": {
        "id": "7GEDkbVzpA2b"
      },
      "source": [
        "## Evaluation metrics"
      ]
    },
    {
      "cell_type": "code",
      "execution_count": null,
      "metadata": {
        "colab": {
          "base_uri": "https://localhost:8080/",
          "height": 294
        },
        "id": "zTvGRR7W5VNo",
        "outputId": "435f73a6-4249-4eb5-f0a9-9af241525f2a"
      },
      "outputs": [
        {
          "output_type": "display_data",
          "data": {
            "text/plain": [
              "<Figure size 432x288 with 1 Axes>"
            ],
            "image/png": "[encoded data removed]"
          },
          "metadata": {
            "needs_background": "light"
          }
        }
      ],
      "source": [
        "fig = plt.figure()\n",
        "plt.plot(hist.history['loss'], color='teal', label='loss')\n",
        "plt.plot(hist.history['val_loss'], color='orange', label='val_loss')\n",
        "fig.suptitle('Loss', fontsize=20)\n",
        "plt.legend(loc=\"upper left\")\n",
        "plt.show()"
      ]
    },
    {
      "cell_type": "code",
      "execution_count": null,
      "metadata": {
        "colab": {
          "base_uri": "https://localhost:8080/",
          "height": 294
        },
        "id": "jsCfkHhP8jWS",
        "outputId": "2af0992d-5e56-449d-e98d-c881ac0938e1"
      },
      "outputs": [
        {
          "output_type": "display_data",
          "data": {
            "text/plain": [
              "<Figure size 432x288 with 1 Axes>"
            ],
            "image/png": "[encoded data removed]"
          },
          "metadata": {
            "needs_background": "light"
          }
        }
      ],
      "source": [
        "fig = plt.figure()\n",
        "plt.plot(hist.history['accuracy'], color='teal', label='accuracy')\n",
        "plt.plot(hist.history['val_accuracy'], color='orange', label='val_accuracy')\n",
        "fig.suptitle('Accuracy', fontsize=20)\n",
        "plt.legend(loc=\"upper left\")\n",
        "plt.show()"
      ]
    },
    {
      "cell_type": "markdown",
      "metadata": {
        "id": "Cb-xKfFYpIsH"
      },
      "source": [
        "## Test on new collected image"
      ]
    },
    {
      "cell_type": "code",
      "execution_count": null,
      "metadata": {
        "id": "moICSdMcGB30"
      },
      "outputs": [],
      "source": [
        "import cv2"
      ]
    },
    {
      "cell_type": "code",
      "execution_count": null,
      "metadata": {
        "colab": {
          "base_uri": "https://localhost:8080/",
          "height": 286
        },
        "id": "alIu1JaEG6t-",
        "outputId": "b6efc377-777d-4d76-da4f-bdbc510c20b5"
      },
      "outputs": [
        {
          "output_type": "execute_result",
          "data": {
            "text/plain": [
              "<matplotlib.image.AxesImage at 0x7fd8e5853dd0>"
            ]
          },
          "metadata": {},
          "execution_count": 24
        },
        {
          "output_type": "display_data",
          "data": {
            "text/plain": [
              "<Figure size 432x288 with 1 Axes>"
            ],
            "image/png": "[encoded data removed]"
          },
          "metadata": {
            "needs_background": "light"
          }
        }
      ],
      "source": [
        "#Testing on new data by resizing it with (256,256)\n",
        "\n",
        "test_img=cv2.imread(\"drive/MyDrive/collected data/ten_4 (10 thousand)/Unknown-1.png\")\n",
        "plt.imshow(test_img)\n",
        "rescaled_test_image = tf.image.resize(test_img, (256,256))\n",
        "plt.imshow(rescaled_test_image.numpy().astype(int))"
      ]
    },
    {
      "cell_type": "code",
      "execution_count": null,
      "metadata": {
        "colab": {
          "base_uri": "https://localhost:8080/"
        },
        "id": "RchO8DMiHE24",
        "outputId": "5e5d93a9-4144-465d-90a9-1daedba62349"
      },
      "outputs": [
        {
          "output_type": "execute_result",
          "data": {
            "text/plain": [
              "13"
            ]
          },
          "metadata": {},
          "execution_count": 25
        }
      ],
      "source": [
        "yhat = model.predict(np.expand_dims(rescaled_test_image/255, 0))\n",
        "np.argmax(yhat)"
      ]
    },
    {
      "cell_type": "code",
      "execution_count": null,
      "metadata": {
        "id": "9nlqyvmvHNFA"
      },
      "outputs": [],
      "source": [
        "model.save(os.path.join('drive/MyDrive/model','imageclassifier_vgg16_best.h5'))"
      ]
    },
    {
      "cell_type": "code",
      "execution_count": null,
      "metadata": {
        "id": "eOlSvtoVLcmW"
      },
      "outputs": [],
      "source": [
        "from tensorflow.keras import models\n",
        "model = models.load_model(\"drive/MyDrive/model/imageclassifier_vgg16.h5\")"
      ]
    },
    {
      "cell_type": "code",
      "source": [
        "def preprocess(img_path):\n",
        "    img=cv2.imread(img_path)\n",
        "    rescaled_image = tf.image.resize(img, (256,256))\n",
        "    processed_image = np.expand_dims(rescaled_image/255, 0)\n",
        "    \n",
        "    return processed_image\n"
      ],
      "metadata": {
        "id": "qJdtIHtYpkpO"
      },
      "execution_count": null,
      "outputs": []
    },
    {
      "cell_type": "code",
      "source": [
        "test_image = preprocess(\"drive/MyDrive/seven.jpeg\")\n",
        "np.argmax(model.predict(test_image))"
      ],
      "metadata": {
        "colab": {
          "base_uri": "https://localhost:8080/"
        },
        "id": "RdkvzxohqJbI",
        "outputId": "892a3a93-92d2-4f7a-cd34-0aa6e0da859e"
      },
      "execution_count": null,
      "outputs": [
        {
          "output_type": "execute_result",
          "data": {
            "text/plain": [
              "0"
            ]
          },
          "metadata": {},
          "execution_count": 20
        }
      ]
    },
    {
      "cell_type": "code",
      "source": [
        "model.make_predict_function()"
      ],
      "metadata": {
        "colab": {
          "base_uri": "https://localhost:8080/"
        },
        "id": "ruFY0t-7qNBp",
        "outputId": "dc1229bb-fa13-45e4-f1b8-ef9e489af6ea"
      },
      "execution_count": null,
      "outputs": [
        {
          "output_type": "execute_result",
          "data": {
            "text/plain": [
              "<tensorflow.python.eager.def_function.Function at 0x7f04ee220090>"
            ]
          },
          "metadata": {},
          "execution_count": 21
        }
      ]
    },
    {
      "cell_type": "code",
      "source": [
        ""
      ],
      "metadata": {
        "id": "SD4A1TcaqRC4"
      },
      "execution_count": null,
      "outputs": []
    }
  ],
  "metadata": {
    "accelerator": "GPU",
    "colab": {
      "name": "chinese_mnist.ipynb",
      "provenance": [],
      "collapsed_sections": []
    },
    "gpuClass": "standard",
    "kernelspec": {
      "display_name": "Python 3",
      "name": "python3"
    },
    "language_info": {
      "name": "python"
    }
  },
  "nbformat": 4,
  "nbformat_minor": 0
}